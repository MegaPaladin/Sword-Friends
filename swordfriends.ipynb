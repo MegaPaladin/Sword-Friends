{
 "cells": [
  {
   "cell_type": "code",
   "execution_count": 7,
   "metadata": {
    "collapsed": false
   },
   "outputs": [
    {
     "ename": "IndentationError",
     "evalue": "expected an indented block (<ipython-input-7-b9e7a8f356d4>, line 23)",
     "output_type": "error",
     "traceback": [
      "\u001b[1;36m  File \u001b[1;32m\"<ipython-input-7-b9e7a8f356d4>\"\u001b[1;36m, line \u001b[1;32m23\u001b[0m\n\u001b[1;33m    else:\u001b[0m\n\u001b[1;37m       ^\u001b[0m\n\u001b[1;31mIndentationError\u001b[0m\u001b[1;31m:\u001b[0m expected an indented block\n"
     ]
    }
   ],
   "source": [
    "relation_points = {'Backsword' : 0, 'Katana' : 0, 'Longsword' : 0, 'Rapier' : 0, 'Szabla' : 0, 'Tulwar' : 0}\n",
    "sword_names = [\"KATANA\", \"BACKSWORD\", \"LONGSWORD\", \"RAPIER\", \"SZABLA\", \"TULWAR\"]\n",
    "player_name = \"\"\n",
    "\n",
    "def ask_name():\n",
    "    global player_name\n",
    "    global sword_names\n",
    "    player_name = raw_input(\"Please enter your name: \")\n",
    "    player_name = player_name.upper()\n",
    "    if player_name.isalpha() and player_name not in sword_names:\n",
    "        print player_name\n",
    "        name_check()\n",
    "    else:\n",
    "        print (\"Invalid name!\")\n",
    "        ask_name()\n",
    "\n",
    "def name_check():\n",
    "    global player_name\n",
    "    check = raw_input(\"Your name is %s. Are you sure? Y/N: \")\n",
    "    check = check.upper()\n",
    "    if check == \"N\":\n",
    "        #continue\n",
    "    else:\n",
    "        ask_name()\n",
    "        \n",
    "        \n",
    "print (\"Welcome to Swordfriends!\")\n",
    "ask_name()"
   ]
  },
  {
   "cell_type": "code",
   "execution_count": null,
   "metadata": {
    "collapsed": true
   },
   "outputs": [],
   "source": [
    "print (\"KATANA:\")\n",
    "print (\"'I love this town!' she says as she skips down the street.\")"
   ]
  }
 ],
 "metadata": {
  "kernelspec": {
   "display_name": "Python 2",
   "language": "python",
   "name": "python2"
  },
  "language_info": {
   "codemirror_mode": {
    "name": "ipython",
    "version": 2
   },
   "file_extension": ".py",
   "mimetype": "text/x-python",
   "name": "python",
   "nbconvert_exporter": "python",
   "pygments_lexer": "ipython2",
   "version": "2.7.10"
  }
 },
 "nbformat": 4,
 "nbformat_minor": 0
}
